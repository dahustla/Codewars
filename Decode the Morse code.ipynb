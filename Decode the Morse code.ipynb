{
 "cells": [
  {
   "cell_type": "code",
   "execution_count": 1,
   "metadata": {
    "collapsed": true
   },
   "outputs": [],
   "source": [
    "# https://www.codewars.com/kata/decode-the-morse-code/train/python"
   ]
  },
  {
   "cell_type": "code",
   "execution_count": 3,
   "metadata": {
    "collapsed": true
   },
   "outputs": [],
   "source": [
    "MORSE_CODE = {\n",
    "    '.-': 'A',\n",
    "    '-...': 'B',\n",
    "    '-.-.': 'C',\n",
    "    '-..': 'D',\n",
    "    '.': 'E',\n",
    "    '..-.': 'F',\n",
    "    '--.': 'G',\n",
    "    '....': 'H',\n",
    "    '..': 'I',\n",
    "    '.---': 'J',\n",
    "    '-.-': 'K',\n",
    "    '.-..': 'L',\n",
    "    '--': 'M',\n",
    "    '-.': 'N',\n",
    "    '---': 'O',\n",
    "    '.--.': 'P',\n",
    "    '--.-': 'Q',\n",
    "    '.-.': 'R',\n",
    "    '...': 'S',\n",
    "    '-': 'T',\n",
    "    '..-': 'U',\n",
    "    '...-': 'V',\n",
    "    '.--': 'W',\n",
    "    '-..-': 'X',\n",
    "    '-.--': 'Y',\n",
    "    '--..': 'Z',\n",
    "    '-----': '0',\n",
    "    '.----': '1',\n",
    "    '..---': '2',\n",
    "    '...--': '3',\n",
    "    '....-': '4',\n",
    "    '.....': '5',\n",
    "    '-....': '6',\n",
    "    '--...': '7',\n",
    "    '---..': '8',\n",
    "    '----.': '9',\n",
    "    '.-.-.-': '.',\n",
    "    '--..--': ',',\n",
    "    '..--..': '?',\n",
    "    '.----.': '`',\n",
    "    '-.-.--': '!',\n",
    "    '-..-.': '/',\n",
    "    '-.--.': '(',\n",
    "    '-.--.-': ')',\n",
    "    '.-...': '&',\n",
    "    '---...': ':',\n",
    "    '-.-.-.': ';',\n",
    "    '-...-': '=',\n",
    "    '.-.-.': '+',\n",
    "    '-....-': '-',\n",
    "    '..--.-': '_',\n",
    "    '.-..-.': '\"',\n",
    "    '...-..-': '$',\n",
    "    '.--.-.': '@',\n",
    "    '...-.-': 'End of work',\n",
    "    '........': 'Error',\n",
    "    '-.-.-': 'Starting Signal',\n",
    "    '...-.': 'Understood',\n",
    "    '...---...': 'SOS',\n",
    "    '': ' ',\n",
    "}"
   ]
  },
  {
   "cell_type": "code",
   "execution_count": 2,
   "metadata": {
    "collapsed": false
   },
   "outputs": [
    {
     "ename": "SyntaxError",
     "evalue": "unexpected EOF while parsing (<ipython-input-2-433f0e96a3ee>, line 1)",
     "output_type": "error",
     "traceback": [
      "\u001b[1;36m  File \u001b[1;32m\"<ipython-input-2-433f0e96a3ee>\"\u001b[1;36m, line \u001b[1;32m1\u001b[0m\n\u001b[1;33m    def decodeMorse(morseCode):\u001b[0m\n\u001b[1;37m                               ^\u001b[0m\n\u001b[1;31mSyntaxError\u001b[0m\u001b[1;31m:\u001b[0m unexpected EOF while parsing\n"
     ]
    }
   ],
   "source": [
    "def decodeMorse(morseCode):\n",
    "    return ' '.join(''.join(MORSE_CODE[letter] for letter in word.split(' ')) for word in morseCode.strip().split('   '))"
   ]
  },
  {
   "cell_type": "code",
   "execution_count": null,
   "metadata": {
    "collapsed": true
   },
   "outputs": [],
   "source": []
  }
 ],
 "metadata": {
  "kernelspec": {
   "display_name": "Python 3",
   "language": "python",
   "name": "python3"
  },
  "language_info": {
   "codemirror_mode": {
    "name": "ipython",
    "version": 3
   },
   "file_extension": ".py",
   "mimetype": "text/x-python",
   "name": "python",
   "nbconvert_exporter": "python",
   "pygments_lexer": "ipython3",
   "version": "3.5.1"
  }
 },
 "nbformat": 4,
 "nbformat_minor": 0
}
