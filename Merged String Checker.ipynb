{
 "cells": [
  {
   "cell_type": "code",
   "execution_count": 1,
   "metadata": {
    "collapsed": true
   },
   "outputs": [],
   "source": [
    "# https://www.codewars.com/kata/merged-string-checker/train/python"
   ]
  },
  {
   "cell_type": "code",
   "execution_count": 8,
   "metadata": {
    "collapsed": false
   },
   "outputs": [],
   "source": [
    "# merged string checker:\n",
    "\"\"\"\n",
    "'codewars' = 'cdw'+'oears'\n",
    "\"\"\"\n",
    "# own solution\n",
    "def is_merge_own(s,part1,part2):\n",
    "    if len(part1+part2)!=len(s): return False\n",
    "    i,j,k=0,0,0\n",
    "    while k < len(s):\n",
    "        if i < len(part1) and j < len(part2) and s[k]==part1[i]==part2[j]:\n",
    "            print('split')\n",
    "            print(s[k+1:],'+',part1[i+1:],'+',part2[j:])\n",
    "            print(s[k+1:],'+',part2[j+1:],'+',part1[i:])\n",
    "            \n",
    "            return is_merge_1(s[k+1:],part1[i+1:],part2[j:]) or is_merge_1(s[k+1:],part2[j+1:],part1[i:])\n",
    "        elif i < len(part1) and s[k] == part1[i]:\n",
    "            i+=1\n",
    "            k+=1\n",
    "        elif j < len(part2) and s[k] == part2[j]:\n",
    "            j+=1\n",
    "            k+=1\n",
    "        else: return False\n",
    "    if i != len(part1) or j != len(part2): return False\n",
    "    return True"
   ]
  },
  {
   "cell_type": "code",
   "execution_count": 9,
   "metadata": {
    "collapsed": true
   },
   "outputs": [],
   "source": [
    "# best solution\n",
    "def is_merge(s,part1,part2):\n",
    "    if not part1:\n",
    "        return s == part2\n",
    "    if not part2:\n",
    "        return s == part1\n",
    "    if not s:\n",
    "        return part1 + part2 == ''\n",
    "    if s[0] == part1[0] and is_merge(s[1:],part1[1:],part2):\n",
    "        #print('split1')\n",
    "        #print(s[1:],'+',part1[1:],'+',part2)\n",
    "        return True\n",
    "    if s[0] == part2[0] and is_merge(s[1:],part1,part2[1:]):\n",
    "        #print('split2')\n",
    "        #print(s[1:],'+',part1,'+',part2[1:])\n",
    "        return True\n",
    "    return False"
   ]
  },
  {
   "cell_type": "code",
   "execution_count": 10,
   "metadata": {
    "collapsed": false
   },
   "outputs": [
    {
     "data": {
      "text/plain": [
       "True"
      ]
     },
     "execution_count": 10,
     "metadata": {},
     "output_type": "execute_result"
    }
   ],
   "source": [
    "is_merge(\"Bananas from Bahamas\", \"Bahas\", \"Bananas from am\")"
   ]
  },
  {
   "cell_type": "code",
   "execution_count": 6,
   "metadata": {
    "collapsed": false
   },
   "outputs": [
    {
     "data": {
      "text/plain": [
       "True"
      ]
     },
     "execution_count": 6,
     "metadata": {},
     "output_type": "execute_result"
    }
   ],
   "source": [
    "is_merge(\"[W`meSnw(R1qaLLqc[=]=UAvTa_3%\", \"W`mnwqaLL]=va%\", \"[eS(R1qc[=UAT_3\")"
   ]
  },
  {
   "cell_type": "code",
   "execution_count": null,
   "metadata": {
    "collapsed": true
   },
   "outputs": [],
   "source": []
  }
 ],
 "metadata": {
  "kernelspec": {
   "display_name": "Python 3",
   "language": "python",
   "name": "python3"
  },
  "language_info": {
   "codemirror_mode": {
    "name": "ipython",
    "version": 3
   },
   "file_extension": ".py",
   "mimetype": "text/x-python",
   "name": "python",
   "nbconvert_exporter": "python",
   "pygments_lexer": "ipython3",
   "version": "3.5.1"
  }
 },
 "nbformat": 4,
 "nbformat_minor": 0
}
