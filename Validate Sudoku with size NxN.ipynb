{
 "cells": [
  {
   "cell_type": "code",
   "execution_count": 1,
   "metadata": {
    "collapsed": true
   },
   "outputs": [],
   "source": [
    "# https://www.codewars.com/kata/validate-sudoku-with-size-nxn"
   ]
  },
  {
   "cell_type": "code",
   "execution_count": 80,
   "metadata": {
    "collapsed": false
   },
   "outputs": [],
   "source": [
    "# self version, pass all test but does not detect data type\n",
    "import math\n",
    "class Sudoku(object):\n",
    "    def __init__(self,mat=[]):\n",
    "        self.mat = mat\n",
    "        #print(mat)\n",
    "    def is_valid(self):\n",
    "        nn =len(self.mat)\n",
    "        n = int(math.sqrt(nn))\n",
    "        if nn==0: return False\n",
    "        if nn==1:\n",
    "            if self.mat[0][0]==1 and type(self.mat[0][0])==int: return True\n",
    "            else: return False\n",
    "        #if not all(len(i)==len(self.mat) for i in self.mat):\n",
    "            #return False\n",
    "        '''\n",
    "        import from best practice, check if all elements in board is int and if all lists have same length = len(board)\n",
    "        '''\n",
    "        isValidRow = lambda r: (isinstance(r,list) and len(r)==n and all(map(lambda x: type(x)==int,r)))\n",
    "        if not all(map(isValidRow,self.mat)): return False\n",
    "\n",
    "        cols = [[l[i] for l in self.mat] for i in range(nn)] \n",
    "        regions = []\n",
    "        for i in range(0,nn,n):\n",
    "            for j in range(0,nn,n):\n",
    "                row = []\n",
    "                for k in range(n):\n",
    "                    row = row + self.mat[i+k][j:j+n]\n",
    "                regions.append(row)\n",
    "                \n",
    "        for m in (self.mat,cols,regions):\n",
    "            for row in m:\n",
    "                if len(set(row))!=nn:\n",
    "                    return False\n",
    "        return True"
   ]
  },
  {
   "cell_type": "code",
   "execution_count": 81,
   "metadata": {
    "collapsed": false
   },
   "outputs": [
    {
     "data": {
      "text/plain": [
       "False"
      ]
     },
     "execution_count": 81,
     "metadata": {},
     "output_type": "execute_result"
    }
   ],
   "source": [
    "s = Sudoku([[\"a\",'b'],['c','d']])\n",
    "s.is_valid()"
   ]
  },
  {
   "cell_type": "code",
   "execution_count": null,
   "metadata": {
    "collapsed": true
   },
   "outputs": [],
   "source": [
    "# best practice \n",
    "import math\n",
    "\n",
    "class Sudoku(object):\n",
    "    def __init__(self, board):\n",
    "        self.board = board\n",
    "        \n",
    "    def is_valid(self):\n",
    "        if not isinstance(self.board, list):\n",
    "            return False\n",
    "        n = len(self.board)\n",
    "        rootN = int(round(math.sqrt(n)))\n",
    "        if rootN * rootN != n:\n",
    "            return False\n",
    "        isValidRow = lambda r : (isinstance(r, list) and\n",
    "                                 len(r) == n and\n",
    "                                 all(map(lambda x : type(x) == int, r)))\n",
    "        if not all(map(isValidRow, self.board)):\n",
    "            return False\n",
    "        oneToN = set(range(1, n + 1))\n",
    "        isOneToN = lambda l : set(l) == oneToN\n",
    "        tranpose = [[self.board[j][i] for i in range(n)] for j in range(n)]\n",
    "        squares = [[self.board[p+x][q+y] for x in range(rootN) \n",
    "                                         for y in range(rootN)] \n",
    "                                         for p in range(0, n, rootN)\n",
    "                                         for q in range(0, n, rootN)] \n",
    "        return (all(map(isOneToN, self.board)) and\n",
    "                all(map(isOneToN, tranpose)) and\n",
    "                all(map(isOneToN, squares)))"
   ]
  },
  {
   "cell_type": "code",
   "execution_count": null,
   "metadata": {
    "collapsed": true
   },
   "outputs": [],
   "source": []
  }
 ],
 "metadata": {
  "kernelspec": {
   "display_name": "Python 3",
   "language": "python",
   "name": "python3"
  },
  "language_info": {
   "codemirror_mode": {
    "name": "ipython",
    "version": 3
   },
   "file_extension": ".py",
   "mimetype": "text/x-python",
   "name": "python",
   "nbconvert_exporter": "python",
   "pygments_lexer": "ipython3",
   "version": "3.5.1"
  }
 },
 "nbformat": 4,
 "nbformat_minor": 0
}
