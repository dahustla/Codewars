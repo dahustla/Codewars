{
 "cells": [
  {
   "cell_type": "code",
   "execution_count": 1,
   "metadata": {
    "collapsed": true
   },
   "outputs": [],
   "source": [
    "# https://www.codewars.com/kata/morse-encoding/train/python\n",
    "# https://www.codewars.com/kata/536602df5d0266e7b0000d31/solutions/python"
   ]
  },
  {
   "cell_type": "code",
   "execution_count": 1,
   "metadata": {
    "collapsed": false
   },
   "outputs": [],
   "source": [
    "# convert between binary and 32-bit int\n",
    "def bit_to_binary(number):\n",
    "    if number < 0:\n",
    "        number += 2**31\n",
    "        s = '1'\n",
    "    else: s = '0'\n",
    "    return s+'0'*(31-len(bin(number))+2)+bin(number)[2:]\n",
    "\n",
    "def binary_to_bit(b):\n",
    "    # return -2**31*int(b[0])+sum(int(j)*2**(30-i) for i,j in enumerate(b[1:]))\n",
    "    return -2**31*int(b[0])+int(b[1:],2)"
   ]
  },
  {
   "cell_type": "code",
   "execution_count": 32,
   "metadata": {
    "collapsed": false
   },
   "outputs": [],
   "source": [
    "class Morse:\n",
    "    @classmethod\n",
    "    def encode(self,message):\n",
    "        message = '000'.join(alpha[i] for i in message)\n",
    "        message = message+(32-len(message)%32)*'0'\n",
    "        return [binary_to_bit(message[i:i+32]) for i in range(0,len(message),32)]\n",
    "        \n",
    "    @classmethod\n",
    "    def decode(self,array):\n",
    "        beta = dict((k,v) for v,k in alpha.items())\n",
    "        s = ''.join(bit_to_binary(i) for i in array)\n",
    "        s = s.strip('0')\n",
    "        s = s.replace('0000000','000000') # replace 7 0s to 6 0s\n",
    "        chars = [i if i!='' else '0' for i in s.split('000')] # if empty replace with 0 (space)\n",
    "        return ''.join(beta[i] for i in chars)\n",
    "    \n",
    "alpha={\n",
    "  'A': '10111',\n",
    "  'B': '111010101',\n",
    "  'C': '11101011101',\n",
    "  'D': '1110101',\n",
    "  'E': '1',\n",
    "  'F': '101011101',\n",
    "  'G': '111011101',\n",
    "  'H': '1010101',\n",
    "  'I': '101',\n",
    "  'J': '1011101110111',\n",
    "  'K': '111010111',\n",
    "  'L': '101110101',\n",
    "  'M': '1110111',\n",
    "  'N': '11101',\n",
    "  'O': '11101110111',\n",
    "  'P': '10111011101',\n",
    "  'Q': '1110111010111',\n",
    "  'R': '1011101',\n",
    "  'S': '10101',\n",
    "  'T': '111',\n",
    "  'U': '1010111',\n",
    "  'V': '101010111',\n",
    "  'W': '101110111',\n",
    "  'X': '11101010111',\n",
    "  'Y': '1110101110111',\n",
    "  'Z': '11101110101',\n",
    "  '0': '1110111011101110111',\n",
    "  '1': '10111011101110111',\n",
    "  '2': '101011101110111',\n",
    "  '3': '1010101110111',\n",
    "  '4': '10101010111',\n",
    "  '5': '101010101',\n",
    "  '6': '11101010101',\n",
    "  '7': '1110111010101',\n",
    "  '8': '111011101110101',\n",
    "  '9': '11101110111011101',\n",
    "  '.': '10111010111010111',\n",
    "  ',': '1110111010101110111',\n",
    "  '?': '101011101110101',\n",
    "  \"'\": '1011101110111011101',\n",
    "  '!': '1110101110101110111',\n",
    "  '/': '1110101011101',\n",
    "  '(': '111010111011101',\n",
    "  ')': '1110101110111010111',\n",
    "  '&': '10111010101',\n",
    "  ':': '11101110111010101',\n",
    "  ';': '11101011101011101',\n",
    "  '=': '1110101010111',\n",
    "  '+': '1011101011101',\n",
    "  '-': '111010101010111',\n",
    "  '_': '10101110111010111',\n",
    "  '\"': '101110101011101',\n",
    "  '$': '10101011101010111',\n",
    "  '@': '10111011101011101',\n",
    "  ' ': '0'}"
   ]
  },
  {
   "cell_type": "code",
   "execution_count": 37,
   "metadata": {
    "collapsed": true
   },
   "outputs": [],
   "source": [
    "m = Morse()"
   ]
  },
  {
   "cell_type": "code",
   "execution_count": 38,
   "metadata": {
    "collapsed": false
   },
   "outputs": [
    {
     "data": {
      "text/plain": [
       "'EEEEEEEIE'"
      ]
     },
     "execution_count": 38,
     "metadata": {},
     "output_type": "execute_result"
    }
   ],
   "source": [
    "m.decode([-2004318070,536870912])"
   ]
  },
  {
   "cell_type": "code",
   "execution_count": 43,
   "metadata": {
    "collapsed": false
   },
   "outputs": [
    {
     "data": {
      "text/plain": [
       "'MMM'"
      ]
     },
     "execution_count": 43,
     "metadata": {},
     "output_type": "execute_result"
    }
   ],
   "source": [
    "m.decode([3996880608])"
   ]
  },
  {
   "cell_type": "code",
   "execution_count": 44,
   "metadata": {
    "collapsed": false
   },
   "outputs": [
    {
     "data": {
      "text/plain": [
       "'MMM'"
      ]
     },
     "execution_count": 44,
     "metadata": {},
     "output_type": "execute_result"
    }
   ],
   "source": [
    "m.decode([-298086688])"
   ]
  },
  {
   "cell_type": "code",
   "execution_count": null,
   "metadata": {
    "collapsed": true
   },
   "outputs": [],
   "source": []
  }
 ],
 "metadata": {
  "kernelspec": {
   "display_name": "Python 3",
   "language": "python",
   "name": "python3"
  },
  "language_info": {
   "codemirror_mode": {
    "name": "ipython",
    "version": 3
   },
   "file_extension": ".py",
   "mimetype": "text/x-python",
   "name": "python",
   "nbconvert_exporter": "python",
   "pygments_lexer": "ipython3",
   "version": "3.5.1"
  }
 },
 "nbformat": 4,
 "nbformat_minor": 0
}
