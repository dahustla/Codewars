{
 "cells": [
  {
   "cell_type": "code",
   "execution_count": 6,
   "metadata": {
    "collapsed": false
   },
   "outputs": [],
   "source": [
    "'''\n",
    "Sodoku game check finished or nah\n",
    "'''\n",
    "def done_or_not(mat):\n",
    "    cols = [[l[i] for l in mat] for i in range(len(mat))] \n",
    "    regions = [mat[i][j:j+3] +mat[i+1][j:j+3]+mat[i+2][j:j+3]\\\n",
    "               for i in range(0,9,3) for j in range(0,9,3)]\n",
    "    for m in (mat,cols,regions):\n",
    "        for row in m:\n",
    "            if len(set(row))!=9:\n",
    "                return 'Try again!'\n",
    "    return 'Finished!'"
   ]
  },
  {
   "cell_type": "code",
   "execution_count": 7,
   "metadata": {
    "collapsed": true
   },
   "outputs": [],
   "source": [
    "a =[[1, 3, 2, 5, 7, 9, 4, 6, 8]\n",
    ",[4, 9, 8, 2, 6, 1, 3, 7, 5]\n",
    ",[7, 5, 6, 3, 8, 4, 2, 1, 9]\n",
    ",[6, 4, 3, 1, 5, 8, 7, 9, 2]\n",
    ",[5, 2, 1, 7, 9, 3, 8, 4, 6]\n",
    ",[9, 8, 7, 4, 2, 6, 5, 3, 1]\n",
    ",[2, 1, 4, 9, 3, 5, 6, 8, 7]\n",
    ",[3, 6, 5, 8, 1, 7, 9, 2, 4]\n",
    ",[8, 7, 9, 6, 4, 2, 1, 5, 3]]\n",
    "\n",
    "b = [[1, 3, 2, 5, 7, 9, 4, 6, 8]\n",
    ",[4, 9, 8, 2, 6, 1, 3, 7, 5]\n",
    ",[7, 5, 6, 3, 8, 4, 2, 1, 9]\n",
    ",[6, 4, 3, 1, 5, 8, 7, 9, 2]\n",
    ",[5, 2, 1, 7, 9, 3, 8, 4, 6]\n",
    ",[9, 8, 7, 4, 2, 6, 5, 3, 1]\n",
    ",[2, 1, 4, 9, 3, 5, 6, 8, 7]\n",
    ",[3, 6, 5, 8, 1, 7, 9, 2, 4]\n",
    ",[8, 7, 9, 6, 4, 2, 1, 3, 5]]"
   ]
  },
  {
   "cell_type": "code",
   "execution_count": 8,
   "metadata": {
    "collapsed": false
   },
   "outputs": [
    {
     "name": "stdout",
     "output_type": "stream",
     "text": [
      "Finished!\n"
     ]
    }
   ],
   "source": [
    "print(done_or_not(a))"
   ]
  },
  {
   "cell_type": "code",
   "execution_count": 9,
   "metadata": {
    "collapsed": false
   },
   "outputs": [
    {
     "name": "stdout",
     "output_type": "stream",
     "text": [
      "Try again!\n"
     ]
    }
   ],
   "source": [
    "print(done_or_not(b))"
   ]
  },
  {
   "cell_type": "code",
   "execution_count": null,
   "metadata": {
    "collapsed": true
   },
   "outputs": [],
   "source": []
  }
 ],
 "metadata": {
  "kernelspec": {
   "display_name": "Python 3",
   "language": "python",
   "name": "python3"
  },
  "language_info": {
   "codemirror_mode": {
    "name": "ipython",
    "version": 3
   },
   "file_extension": ".py",
   "mimetype": "text/x-python",
   "name": "python",
   "nbconvert_exporter": "python",
   "pygments_lexer": "ipython3",
   "version": "3.5.1"
  }
 },
 "nbformat": 4,
 "nbformat_minor": 0
}
