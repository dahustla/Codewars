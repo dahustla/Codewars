{
 "cells": [
  {
   "cell_type": "code",
   "execution_count": 1,
   "metadata": {
    "collapsed": true
   },
   "outputs": [],
   "source": [
    "# https://www.codewars.com/kata/is-my-friend-cheating/train/python"
   ]
  },
  {
   "cell_type": "code",
   "execution_count": 2,
   "metadata": {
    "collapsed": true
   },
   "outputs": [],
   "source": [
    "# find 1 <= a < b <= n st a*b = sum(1..n) - a - b\n",
    "import math\n",
    "def removNb(n):\n",
    "    res = []\n",
    "    ttl = (1+n)*n/2\n",
    "    lower = math.ceil((n*(n-1)/2/(n+1))) # value of a when b = n\n",
    "    upper = int(math.sqrt(ttl+1)-1) # value of a when a = b\n",
    "    for a in range(upper,lower,-1):\n",
    "        b = (ttl-a)/(a+1) # value of b given \n",
    "        if b == int(b): res= res +[(a,int(b)),(int(b),a)]\n",
    "    return sorted(res)\n",
    "\n",
    "def removNb(n):\n",
    "    sum = n*(n + 1)/2  \n",
    "    return [(x, (sum - x) / (x + 1)) for x in xrange(1, n+1) if (sum - x) % (x + 1) == 0 and 1 <= (sum - x) / (x + 1) <= n]"
   ]
  },
  {
   "cell_type": "code",
   "execution_count": null,
   "metadata": {
    "collapsed": true
   },
   "outputs": [],
   "source": []
  }
 ],
 "metadata": {
  "kernelspec": {
   "display_name": "Python 3",
   "language": "python",
   "name": "python3"
  },
  "language_info": {
   "codemirror_mode": {
    "name": "ipython",
    "version": 3
   },
   "file_extension": ".py",
   "mimetype": "text/x-python",
   "name": "python",
   "nbconvert_exporter": "python",
   "pygments_lexer": "ipython3",
   "version": "3.5.1"
  }
 },
 "nbformat": 4,
 "nbformat_minor": 0
}
